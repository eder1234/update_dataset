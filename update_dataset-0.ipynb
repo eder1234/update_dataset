{
 "cells": [
  {
   "cell_type": "code",
   "execution_count": null,
   "metadata": {},
   "outputs": [],
   "source": [
    "import pandas as pd\n",
    "\n",
    "facemocap_df = pd.read_pickle(\"facemocap_df-4.pkl\")\n",
    "facemocap_df.sample(3)"
   ]
  },
  {
   "cell_type": "code",
   "execution_count": 1,
   "metadata": {},
   "outputs": [
    {
     "name": "stdout",
     "output_type": "stream",
     "text": [
      "Selected Folder: VJ\n",
      "C:/Users/ederro/Documents/GitHub/test_3d/VJ\n"
     ]
    }
   ],
   "source": [
    "import os\n",
    "import tkinter as tk\n",
    "from tkinter import filedialog\n",
    "\n",
    "def select_directory():\n",
    "    root = tk.Tk()\n",
    "    root.withdraw()  # Hide the main window.\n",
    "    directory_path = filedialog.askdirectory()  # Show the ask directory dialog.\n",
    "    folder_name = directory_path.split('/')[-1]  # Extract the folder name.\n",
    "    print(f\"Selected Folder: {folder_name}\")\n",
    "    return directory_path\n",
    "\n",
    "filepath = select_directory()\n",
    "print(filepath)\n",
    "# Find the folders in filepath\n",
    "folders = [f for f in os.listdir(filepath) if os.path.isdir(os.path.join(filepath, f))]"
   ]
  },
  {
   "cell_type": "code",
   "execution_count": 2,
   "metadata": {},
   "outputs": [
    {
     "data": {
      "text/plain": [
       "['20230515']"
      ]
     },
     "execution_count": 2,
     "metadata": {},
     "output_type": "execute_result"
    }
   ],
   "source": [
    "folders"
   ]
  },
  {
   "cell_type": "code",
   "execution_count": 7,
   "metadata": {},
   "outputs": [],
   "source": [
    "import pandas as pd\n",
    "import numpy as np\n",
    "import open3d as o3d    \n",
    "import seqpc\n",
    "\n",
    "# Add a new row to the bottom of the dataframe\n",
    "#facemocap_df = facemocap_df.append({\"participant_id\": participant_id}, ignore_index=True)\n",
    "\n",
    "diagnosis = \"Facial palsy\"\n",
    "repetitive = False\n",
    "experimentator = \"Félix\"\n",
    "mocap_platform = \"IFF\"\n",
    "gender = \"F\"\n",
    "bday = \"1978-10-16\" # YYYY-MM-DD\n",
    "protocol_name = \"SIMOVI 2\"\n",
    "protocol_id = \"ID-RCB 2016-A00716-45\"\n",
    "protocol_id_clinicaltrialsgov = \"NCT 03115203\"\n",
    "first_name = \"Varin\"\n",
    "last_name = \"Jennifer\""
   ]
  },
  {
   "cell_type": "code",
   "execution_count": 9,
   "metadata": {},
   "outputs": [
    {
     "name": "stdout",
     "output_type": "stream",
     "text": [
      "(271, 108, 3)\n",
      "(314, 108, 3)\n",
      "(197, 108, 3)\n",
      "(185, 108, 3)\n",
      "(293, 108, 3)\n"
     ]
    }
   ],
   "source": [
    "birthdate = pd.to_datetime(bday, format=\"%Y-%m-%d\")\n",
    "# Search for the public id of the participant according to its participant_id\n",
    "participant_id = filepath\n",
    "public_id = facemocap_df[facemocap_df[\"Participant ID\"] == participant_id][\"Public ID\"].values[0]\n",
    "# If the participant is not in the dataframe, add it\n",
    "if public_id == None:\n",
    "    public_id = facemocap_df[\"Public ID\"].max() + 1\n",
    "    \n",
    "for folder in folders:\n",
    "    # Change the date from string (YYYYMMDD) to pandas datetime\n",
    "    date_of_aquisition = pd.to_datetime(folder, format=\"%Y%m%d\")\n",
    "    age_at_aquisition = date_of_aquisition - birthdate\n",
    "    # Round age to years\n",
    "    age_at_aquisition = int(round(age_at_aquisition.days/365.25, 1))\n",
    "    #participant_id = filepath\n",
    "    # Find the .csv files in the folder\n",
    "    files = [f for f in os.listdir(os.path.join(filepath, folder)) if f.endswith(\".csv\")]\n",
    "    # Loop through the files\n",
    "    for file in files:\n",
    "        if file[-9:-7] == 'M1':\n",
    "            M=1\n",
    "        elif file[-9:-7] == 'M2':\n",
    "            M=2\n",
    "        elif file[-9:-7] == 'M3':\n",
    "            M=3\n",
    "        elif file[-9:-7] == 'M4':\n",
    "            M=4\n",
    "        elif file[-9:-7] == 'M5':\n",
    "            M=5\n",
    "        else:\n",
    "            continue\n",
    "        # Read the .csv file\n",
    "        df = pd.read_csv(os.path.join(filepath, folder, file), header=None, usecols=range(2,326), skiprows=5)\n",
    "        spc = df.values.reshape(-1, 108, 3)\n",
    "        spc = seqpc.impute_missing_values(spc)\n",
    "        spc_dental_list = []\n",
    "        for pc in spc:\n",
    "            pc_dental = seqpc.change_reference_frame(pc, pc[:3])\n",
    "            spc_dental_list.append(pc_dental)\n",
    "        spc_dental = np.array(spc_dental_list)\n",
    "        print(spc_dental.shape)\n",
    "        if np.isnan(spc_dental).any():\n",
    "            print(\"NaN values found in point cloud\")\n",
    "\n",
    "        participant_dict = {\"Participant ID\": participant_id, \"Diagnosis\": diagnosis, \"File name\": file, \"Age at Acquisition\": age_at_aquisition,\n",
    "                                            \"Birthday\": birthdate, \"Gender\": gender, \"First Name\": first_name, \"Last Name\": last_name, \"SPC\": None, \"SPC dental\": None,\n",
    "                                            \"Protocol name\":protocol_name, \"Protocol ID\": protocol_id, \"Movement\": M, \"Date of Acquisition\": date_of_aquisition,\n",
    "                                            \"Protocol ID clinicaltrials.gov\": protocol_id_clinicaltrialsgov, \"Repetitive\": repetitive,\n",
    "                                            \"Public ID\":public_id, \"Experimentator\": experimentator, \"MoCap platform\": mocap_platform}\n",
    "        participant_df = pd.DataFrame(participant_dict, index=[0])\n",
    "        participant_df.at[0, \"SPC\"] = spc.reshape(-1,324)\n",
    "        participant_df.at[0, \"SPC dental\"] = spc_dental.reshape(-1,108,3)\n",
    "        facemocap_df.loc[len(facemocap_df)] = participant_df.loc[0]\n",
    " "
   ]
  },
  {
   "cell_type": "code",
   "execution_count": null,
   "metadata": {},
   "outputs": [],
   "source": [
    "facemocap_df.tail(5)"
   ]
  },
  {
   "cell_type": "code",
   "execution_count": 11,
   "metadata": {},
   "outputs": [],
   "source": [
    "facemocap_df.to_pickle(\"facemocap_df-4.pkl\")"
   ]
  },
  {
   "cell_type": "code",
   "execution_count": 12,
   "metadata": {},
   "outputs": [],
   "source": [
    "# Exclude SPC, SPC dental, and SPC imputed from the dataframe\n",
    "facemocap_df = facemocap_df.drop([\"SPC\", \"SPC dental\", \"SPC imputed\"], axis=1)\n",
    "facemocap_df.to_csv(\"facemocap_df-4.csv\", index=False)"
   ]
  }
 ],
 "metadata": {
  "kernelspec": {
   "display_name": ".venv",
   "language": "python",
   "name": "python3"
  },
  "language_info": {
   "codemirror_mode": {
    "name": "ipython",
    "version": 3
   },
   "file_extension": ".py",
   "mimetype": "text/x-python",
   "name": "python",
   "nbconvert_exporter": "python",
   "pygments_lexer": "ipython3",
   "version": "3.9.0"
  },
  "orig_nbformat": 4
 },
 "nbformat": 4,
 "nbformat_minor": 2
}
